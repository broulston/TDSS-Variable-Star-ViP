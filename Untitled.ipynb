{
 "cells": [
  {
   "cell_type": "code",
   "execution_count": 159,
   "metadata": {},
   "outputs": [],
   "source": [
    "import numpy as np\n",
    "from astropy.table import Table\n",
    "import ResearchTools.LCtools as LCtools\n",
    "from astropy import units as u\n",
    "from astropy.coordinates import SkyCoord\n",
    "\n",
    "import VarStar_Vi_plot_functions as vi\n",
    "\n",
    "from tqdm.notebook import trange, tqdm\n",
    "\n",
    "prop = Table.read(\"/Users/benjaminroulston/Dropbox/Research/TDSS/Variable_Stars/HARD_COPY_ORGINAL_DATA/PROGRAM_SAMPLE/2020-06-24/FINAL_FILES/TDSS_SES+PREV_DR16DR12griLT20_GAIADR2_Drake2014PerVar_VSX_CSSID_ZTFIDs_LCpointer_PyHammer_VI_ALLPROP_07-27-2020.fits\")\n",
    "periodic_prop = Table.read(\"/Users/benjaminroulston/Desktop/completed_Vi_prop_2020-08-12_speedtest_PeriodOnly.fits\")\n",
    "\n",
    "all_coords = SkyCoord(ra=prop['ra']*u.degree, dec=prop['dec']*u.degree, frame='icrs')\n",
    "periodic_coords = SkyCoord(ra=periodic_prop['ra']*u.degree, dec=periodic_prop['dec']*u.degree, frame='icrs')"
   ]
  },
  {
   "cell_type": "code",
   "execution_count": 43,
   "metadata": {},
   "outputs": [
    {
     "data": {
      "application/vnd.jupyter.widget-view+json": {
       "model_id": "d9358deb09f14c35a2b2943d2735ab01",
       "version_major": 2,
       "version_minor": 0
      },
      "text/plain": [
       "HBox(children=(FloatProgress(value=0.0, max=3022.0), HTML(value='')))"
      ]
     },
     "metadata": {},
     "output_type": "display_data"
    },
    {
     "name": "stdout",
     "output_type": "stream",
     "text": [
      "\n"
     ]
    }
   ],
   "source": [
    "all_prop_index = []\n",
    "for ii in trange(len(periodic_prop)):\n",
    "    this_prop_index = np.argmin(all_coords.separation(periodic_coords[ii]))\n",
    "    all_prop_index.append(this_prop_index)\n",
    "    for key in periodic_prop.columns.keys()[4:]:\n",
    "        prop[this_prop_index][key] = periodic_prop[ii][key]\n",
    "\n",
    "all_prop_index = np.array(all_prop_index)   \n",
    "prop.add_column(col=prop['gmag_SDSSDR12'] - prop['imag_SDSSDR12'], name='gmi')"
   ]
  },
  {
   "cell_type": "code",
   "execution_count": 144,
   "metadata": {},
   "outputs": [],
   "source": [
    "def dealias_Pal2013(P, A, skew, gmi):\n",
    "    prop_array = np.array([np.log10(P), np.log10(A), skew, gmi])\n",
    "    VarTypes = np.array(['RRab', 'RRc', 'single min', 'EA', 'EB/EW', 'delt Scut/SX Phe'])\n",
    "    #                        P       A    skew   g-i\n",
    "    lower_lims = np.array([[-0.36, -0.55, -1.2, -0.42],\n",
    "                           [-0.59, -0.55, -0.4, -0.20],\n",
    "                           [-0.60, -0.70, 0.32, -0.20],\n",
    "                           [-0.60, -0.67, 1.00, -1.20],\n",
    "                           [-0.67, -0.56, -0.1, 0.10],\n",
    "                           [-1.38, -0.63, -1.0, -0.50]])\n",
    "    #                        P       A    skew   g-i\n",
    "    upper_lims = np.array([[-0.05, 0.30, 0.20, 0.50],\n",
    "                           [-0.36, -0.15, 0.35, 0.35],\n",
    "                           [np.inf, 0.00, 3.60, 3.00],\n",
    "                           [np.inf, 0.14, 3.70, 3.80],\n",
    "                           [-0.40, -0.09, 1.60, 1.80],\n",
    "                           [-1.05, -0.12, 0.70, 0.20]])\n",
    "    harmonics = LCtools.createHarmonicFrac(Nmax=4)\n",
    "    test_prop_array = prop_array.copy()\n",
    "    possible_types_for_harmonics_labels = []\n",
    "    possible_types_for_harmonics_indexs = []\n",
    "    possible_types_for_harmonics_counts = []\n",
    "    for ii, harmonic in enumerate(harmonics):\n",
    "        test_prop_array[0] = prop_array[0] + np.log10(harmonic)\n",
    "        \n",
    "        possible_types_index = np.all(((test_prop_array >= lower_lims) & (test_prop_array <= upper_lims)), axis=1)\n",
    "        possible_types_for_harmonics_labels.append(VarTypes[possible_types_index])\n",
    "        possible_types_for_harmonics_indexs.append(possible_types_index)\n",
    "        possible_types_for_harmonics_counts.append(possible_types_index.sum())\n",
    "        \n",
    "    return possible_types_for_harmonics_labels, possible_types_for_harmonics_indexs, possible_types_for_harmonics_counts"
   ]
  },
  {
   "cell_type": "code",
   "execution_count": 138,
   "metadata": {},
   "outputs": [
    {
     "data": {
      "text/plain": [
       "([array([], dtype='<U16'),\n",
       "  array(['EB/EW'], dtype='<U16'),\n",
       "  array(['RRc', 'EB/EW'], dtype='<U16'),\n",
       "  array(['RRab'], dtype='<U16'),\n",
       "  array([], dtype='<U16'),\n",
       "  array([], dtype='<U16'),\n",
       "  array([], dtype='<U16')],\n",
       " [array([False, False, False, False, False, False]),\n",
       "  array([False, False, False, False,  True, False]),\n",
       "  array([False,  True, False, False,  True, False]),\n",
       "  array([ True, False, False, False, False, False]),\n",
       "  array([False, False, False, False, False, False]),\n",
       "  array([False, False, False, False, False, False]),\n",
       "  array([False, False, False, False, False, False])],\n",
       " [0, 1, 2, 1, 0, 0, 0])"
      ]
     },
     "execution_count": 138,
     "metadata": {},
     "output_type": "execute_result"
    }
   ],
   "source": [
    "P = 0.64675\n",
    "A = 0.47\n",
    "skew = -0.01\n",
    "gmi = 0.2\n",
    "dealias_Pal2013(P, A, skew, gmi)"
   ]
  },
  {
   "cell_type": "code",
   "execution_count": 145,
   "metadata": {},
   "outputs": [
    {
     "data": {
      "application/vnd.jupyter.widget-view+json": {
       "model_id": "0d99316101ab44849b11431e17dc757f",
       "version_major": 2,
       "version_minor": 0
      },
      "text/plain": [
       "HBox(children=(FloatProgress(value=0.0, max=2647.0), HTML(value='')))"
      ]
     },
     "metadata": {},
     "output_type": "display_data"
    },
    {
     "name": "stdout",
     "output_type": "stream",
     "text": [
      "\n"
     ]
    }
   ],
   "source": [
    "lc_prefixs = ['CSS_', 'ZTF_g_', 'ZTF_r_']\n",
    "\n",
    "lc_prefix = lc_prefixs[1]\n",
    "\n",
    "this_lc_prop_array = prop[all_prop_index][[f\"ra\", f\"dec\", f\"{lc_prefix}P\", f\"{lc_prefix}Amp\", f\"{lc_prefix}lc_skew\", f\"gmi\"]]\n",
    "this_lc_index = np.where(this_lc_prop_array[f\"{lc_prefix}P\"] != 0)[0]\n",
    "\n",
    "this_lc_prop_array = this_lc_prop_array[this_lc_index]\n",
    "\n",
    "number_of_matches = np.zeros(len(this_lc_prop_array))\n",
    "for ii in trange(len(this_lc_prop_array)):\n",
    "    selected_object = this_lc_prop_array[ii]\n",
    "    ra, dec, P, A, skew, gmi = selected_object\n",
    "    # print(selected_object)\n",
    "    possible_types_for_harmonics_labels, possible_types_for_harmonics_indexs, possible_types_for_harmonics_counts = dealias_Pal2013(P, A, skew, gmi)\n",
    "    number_of_matches[ii] = np.where(np.array(possible_types_for_harmonics_counts) != 0)[0].size"
   ]
  },
  {
   "cell_type": "code",
   "execution_count": 155,
   "metadata": {},
   "outputs": [
    {
     "data": {
      "text/html": [
       "<i>Table length=1057</i>\n",
       "<table id=\"table140385920127056\" class=\"table-striped table-bordered table-condensed\">\n",
       "<thead><tr><th>ra</th><th>dec</th><th>ZTF_g_P</th><th>ZTF_g_Amp</th><th>ZTF_g_lc_skew</th><th>gmi</th></tr></thead>\n",
       "<thead><tr><th>float64</th><th>float64</th><th>float64</th><th>float64</th><th>float64</th><th>float64</th></tr></thead>\n",
       "<tr><td>0.20668171226645882</td><td>6.234040781983522</td><td>0.39708066296587485</td><td>0.5299317866234361</td><td>-0.8865801095962524</td><td>0.4089999999999989</td></tr>\n",
       "<tr><td>0.2834383155997102</td><td>1.1785265786849486</td><td>0.548005260850504</td><td>1.0402900868064933</td><td>-0.5166778564453125</td><td>-0.09999999999999787</td></tr>\n",
       "<tr><td>0.350142</td><td>36.14135</td><td>0.5029169181251257</td><td>1.638700705164041</td><td>-0.5655319690704346</td><td>0.4349999999999987</td></tr>\n",
       "<tr><td>0.6357067024876244</td><td>0.5685442882076391</td><td>0.7930214115781126</td><td>0.5162564059647323</td><td>-0.12276919186115265</td><td>0.4140000000000015</td></tr>\n",
       "<tr><td>0.8353326449142742</td><td>2.1137254613375855</td><td>0.6428305113073886</td><td>1.1408506747335956</td><td>-0.8870441317558289</td><td>0.22299999999999898</td></tr>\n",
       "<tr><td>0.9510000835997516</td><td>11.159895984790666</td><td>0.5424111259370151</td><td>1.1351321230400195</td><td>-0.8120561838150024</td><td>0.17199999999999704</td></tr>\n",
       "<tr><td>1.0233691388900752</td><td>20.258485737525728</td><td>0.5033117915886532</td><td>0.2865860298946963</td><td>0.21891233325004578</td><td>0.7449999999999974</td></tr>\n",
       "<tr><td>1.2186144636242489</td><td>1.6129542014099234</td><td>0.5400617830679829</td><td>1.1797893436709543</td><td>-1.185377597808838</td><td>-0.12399999999999878</td></tr>\n",
       "<tr><td>1.410491</td><td>-5.166434</td><td>0.8458376330079678</td><td>0.5397362810098016</td><td>-0.6264643669128418</td><td>0.20899999999999963</td></tr>\n",
       "<tr><td>2.1362966930615954</td><td>-1.3614759481946452</td><td>0.6773232186399349</td><td>0.40770195943459697</td><td>-0.47289565205574036</td><td>0.26699999999999946</td></tr>\n",
       "<tr><td>...</td><td>...</td><td>...</td><td>...</td><td>...</td><td>...</td></tr>\n",
       "<tr><td>358.4805394197768</td><td>6.944917851945221</td><td>0.6766998700736249</td><td>0.9705723048522863</td><td>-0.3977832496166229</td><td>0.4720000000000013</td></tr>\n",
       "<tr><td>358.9066</td><td>-6.250025</td><td>1.0247161536254457</td><td>1.6452186243814602</td><td>-0.7541286945343018</td><td>0.2940000000000005</td></tr>\n",
       "<tr><td>358.9380045100892</td><td>29.164463997990193</td><td>0.6157635467980295</td><td>0.7413825795135267</td><td>-0.7939409017562866</td><td>0.4289999999999985</td></tr>\n",
       "<tr><td>359.2479034813268</td><td>10.648767569004567</td><td>0.5764884932896739</td><td>1.2501317810805226</td><td>-0.7805041670799255</td><td>0.477999999999998</td></tr>\n",
       "<tr><td>359.30008867792986</td><td>6.905771244014</td><td>0.6561852017113309</td><td>0.46956783981893224</td><td>-0.3971640169620514</td><td>0.49599999999999866</td></tr>\n",
       "<tr><td>359.4748</td><td>0.08308235</td><td>1.2265122896531422</td><td>0.625496551249487</td><td>-0.5027409195899963</td><td>0.41999999999999815</td></tr>\n",
       "<tr><td>359.5328455610355</td><td>3.2738009495024687</td><td>0.5953231414011525</td><td>0.7224069824024362</td><td>-0.6701878905296326</td><td>0.45899999999999963</td></tr>\n",
       "<tr><td>359.574817393545</td><td>1.7271554470815795</td><td>0.5775939745396576</td><td>0.6093970743230201</td><td>-0.5579772591590881</td><td>0.375</td></tr>\n",
       "<tr><td>359.7879410920707</td><td>22.65072885054394</td><td>0.520751965838671</td><td>1.1682231107879062</td><td>-0.9719036817550659</td><td>-0.018000000000000682</td></tr>\n",
       "<tr><td>359.89239543905643</td><td>1.6307820421721912</td><td>0.5150126178091363</td><td>0.822809898032208</td><td>-0.504542350769043</td><td>0.007999999999999119</td></tr>\n",
       "</table>"
      ],
      "text/plain": [
       "<Table length=1057>\n",
       "         ra                 dec         ...          gmi         \n",
       "      float64             float64       ...        float64       \n",
       "------------------- ------------------- ... ---------------------\n",
       "0.20668171226645882   6.234040781983522 ...    0.4089999999999989\n",
       " 0.2834383155997102  1.1785265786849486 ...  -0.09999999999999787\n",
       "           0.350142            36.14135 ...    0.4349999999999987\n",
       " 0.6357067024876244  0.5685442882076391 ...    0.4140000000000015\n",
       " 0.8353326449142742  2.1137254613375855 ...   0.22299999999999898\n",
       " 0.9510000835997516  11.159895984790666 ...   0.17199999999999704\n",
       " 1.0233691388900752  20.258485737525728 ...    0.7449999999999974\n",
       " 1.2186144636242489  1.6129542014099234 ...  -0.12399999999999878\n",
       "           1.410491           -5.166434 ...   0.20899999999999963\n",
       " 2.1362966930615954 -1.3614759481946452 ...   0.26699999999999946\n",
       "                ...                 ... ...                   ...\n",
       "  358.4805394197768   6.944917851945221 ...    0.4720000000000013\n",
       "           358.9066           -6.250025 ...    0.2940000000000005\n",
       "  358.9380045100892  29.164463997990193 ...    0.4289999999999985\n",
       "  359.2479034813268  10.648767569004567 ...     0.477999999999998\n",
       " 359.30008867792986      6.905771244014 ...   0.49599999999999866\n",
       "           359.4748          0.08308235 ...   0.41999999999999815\n",
       "  359.5328455610355  3.2738009495024687 ...   0.45899999999999963\n",
       "   359.574817393545  1.7271554470815795 ...                 0.375\n",
       "  359.7879410920707   22.65072885054394 ... -0.018000000000000682\n",
       " 359.89239543905643  1.6307820421721912 ...  0.007999999999999119"
      ]
     },
     "execution_count": 155,
     "metadata": {},
     "output_type": "execute_result"
    }
   ],
   "source": [
    "one_label = this_lc_prop_array[np.where(number_of_matches == 1)[0]]\n",
    "one_label"
   ]
  },
  {
   "cell_type": "code",
   "execution_count": 164,
   "metadata": {},
   "outputs": [
    {
     "name": "stderr",
     "output_type": "stream",
     "text": [
      "100%|██████████| 1057/1057 [00:14<00:00, 73.65it/s]\n"
     ]
    },
    {
     "data": {
      "text/plain": [
       "array(['/Users/benjaminroulston/Dropbox/Research/TDSS/Variable_Stars/WORKING_DIRECTORY/Vi/2020-07-16/Vi_plots/000.20668+06.23404_Vi.pdf',\n",
       "       '/Users/benjaminroulston/Dropbox/Research/TDSS/Variable_Stars/WORKING_DIRECTORY/Vi/2020-07-16/Vi_plots/000.28344+01.17853_Vi.pdf',\n",
       "       '/Users/benjaminroulston/Dropbox/Research/TDSS/Variable_Stars/WORKING_DIRECTORY/Vi/2020-07-16/Vi_plots/000.35014+36.14135_Vi.pdf',\n",
       "       ...,\n",
       "       '/Users/benjaminroulston/Dropbox/Research/TDSS/Variable_Stars/WORKING_DIRECTORY/Vi/2020-07-16/Vi_plots/359.57482+01.72716_Vi.pdf',\n",
       "       '/Users/benjaminroulston/Dropbox/Research/TDSS/Variable_Stars/WORKING_DIRECTORY/Vi/2020-07-16/Vi_plots/359.78794+22.65073_Vi.pdf',\n",
       "       '/Users/benjaminroulston/Dropbox/Research/TDSS/Variable_Stars/WORKING_DIRECTORY/Vi/2020-07-16/Vi_plots/359.89240+01.63078_Vi.pdf'],\n",
       "      dtype='<U127')"
      ]
     },
     "execution_count": 164,
     "metadata": {},
     "output_type": "execute_result"
    }
   ],
   "source": [
    "move_ra = one_label['ra']\n",
    "move_dec = one_label['dec']\n",
    "moveDir = f\"/Users/benjaminroulston/Desktop/CSS_onelabel/\"\n",
    "vi.get_Vi_panels(move_ra, move_dec, '2020-07-16', copy=True, moveDir=moveDir)"
   ]
  },
  {
   "cell_type": "code",
   "execution_count": null,
   "metadata": {},
   "outputs": [],
   "source": []
  }
 ],
 "metadata": {
  "kernelspec": {
   "display_name": "Python 3",
   "language": "python",
   "name": "python3"
  },
  "language_info": {
   "codemirror_mode": {
    "name": "ipython",
    "version": 3
   },
   "file_extension": ".py",
   "mimetype": "text/x-python",
   "name": "python",
   "nbconvert_exporter": "python",
   "pygments_lexer": "ipython3",
   "version": "3.7.6"
  }
 },
 "nbformat": 4,
 "nbformat_minor": 4
}
